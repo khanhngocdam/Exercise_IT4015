{
 "cells": [
  {
   "attachments": {},
   "cell_type": "markdown",
   "metadata": {},
   "source": [
    "<h1>Báo cáo bài tập Cài đặt CBC mode và CTR mode</h1> \n",
    "Họ và tên : Đàm Ngọc Khánh<br>\n",
    "MSSV : 20205207<br>\n"
   ]
  },
  {
   "attachments": {},
   "cell_type": "markdown",
   "metadata": {},
   "source": [
    "Đây là đoạn code hàm mã hóa với aes sử dụng thư viện pyaes<br>\n",
    "Với đầu vào là key, bản rõ và iv <br>\n",
    "Giải thích : <br>\n",
    "- Đầu tiên, chuyển bản rõ về dạng bytes rồi kiểm tra số lượng byte cần padding bằng cách lấy   (16 - số byte của bản rõ chia lấy dư cho 16) rồi thêm số byte cần padding vào cuối dãy byte của bản rõ\n",
    "- Sau đó chạy vòng lặp từng block 16 byte xor với iv rồi mã hóa, iv sẽ được gán = bản mã hóa của khối trước đó\n",
    "- Từ đó thu được bản mã"
   ]
  },
  {
   "attachments": {},
   "cell_type": "markdown",
   "metadata": {},
   "source": [
    "<h3> Hàm mã hóa </h3> "
   ]
  },
  {
   "cell_type": "code",
   "execution_count": 227,
   "metadata": {},
   "outputs": [],
   "source": [
    "import pyaes\n",
    "key = \"140b41b22a29beb4061bda66b6747e14\"\n",
    "iv = \"4ca00ff4c898d61e1edbf1800618fb28\"\n",
    "def Enc_CBC_Mode(key, plaintext, iv) : \n",
    "    plaintext_hex = plaintext.encode()\n",
    "    #Tính số byte phải padding\n",
    "    num_padding = 16 - len(plaintext_hex) % 16\n",
    "    #padding\n",
    "    plaintext_hex += num_padding * num_padding.to_bytes(1, byteorder='big')\n",
    "    # chuyển chuỗi hex thành byte\n",
    "    iv_byte = bytes.fromhex(iv)\n",
    "    #Mã hóa\n",
    "    aes = pyaes.AES(bytes.fromhex(key))\n",
    "    # Khởi tạo chuỗi cipher\n",
    "    ciphers = b'' \n",
    "    for i in range(int(len(plaintext_hex)/16)) :\n",
    "        #Xor iv với bản rõ\n",
    "        block_xor_iv = bytes([x ^ y for x, y in zip(plaintext_hex[:16], iv_byte)])\n",
    "        # mã hóa \n",
    "        cipher_byte = aes.encrypt(block_xor_iv)\n",
    "        ciphers += bytes(cipher_byte)\n",
    "        # bỏ đi 16 byte đã mã hóa của bản rõ \n",
    "        plaintext_hex = plaintext_hex[16:]\n",
    "        # Gán iv thành bản đã mã hóa để sử dụng làm iv cho khối sau\n",
    "        iv_byte = cipher_byte\n",
    "    return ciphers"
   ]
  },
  {
   "cell_type": "code",
   "execution_count": 228,
   "metadata": {},
   "outputs": [
    {
     "name": "stdout",
     "output_type": "stream",
     "text": [
      "28a226d160dad07883d04e008a7897ee2e4b7465d5290d0c0e6c6822236e1daafb94ffe0c5da05d9476be028ad7c1d81\n"
     ]
    }
   ],
   "source": [
    "# Check lại hàm mã hóa sau khi đã tìm được bản rõ ở câu 1 và câu 2\n",
    "plaintext = \"Basic CBC mode encryption needs padding.\"\n",
    "cipher = Enc_CBC_Mode(key,plaintext, iv).hex()\n",
    "print(cipher)"
   ]
  },
  {
   "attachments": {},
   "cell_type": "markdown",
   "metadata": {},
   "source": [
    "<h3> Hàm giải mã để giải câu hỏi </h3>\n",
    "Giải thích : <br>\n",
    "- Đầu tiên chuyển hết key, bản mã về dạng chuỗi byte rồi tách 16 byte đầu của cipher làm iv <br>\n",
    "- Chạy vòng for từng khối 16 byte của cipher giải mã với key cho trước rồi xor với iv <br>\n",
    "- Gán iv lại = bản mã hóa của khối trước đó để dùng làm iv cho khối sau <br>\n",
    "- Từ đó thu được bản rõ <br>\n",
    "- Bản rõ còn padding nên ta cần loại bỏ bằng cách chia 16 lấy dư rồi lấy 16 trừ đi để thu được số byte đã padding, từ đó lấy đến vị trí chưa padding ở bản rõ, ta thu được bản rõ ban đầu <br>"
   ]
  },
  {
   "cell_type": "code",
   "execution_count": 220,
   "metadata": {},
   "outputs": [],
   "source": [
    "import pyaes\n",
    "def Dec_CBC_Mode(key, cipher) :\n",
    "    # Khởi tạo plain text\n",
    "    plain_text = b\"\" \n",
    "    # Chuyển string hex IV -> byte . IV là 16 byte đầu của cipher tức 32 kí tự đầu của cipher dạng hex string\n",
    "    iv = bytes.fromhex(cipher[0:32])\n",
    "    # Chuyển key string hex -> byte\n",
    "    key_byte = bytes.fromhex(key)\n",
    "    # Chuyển string hex cipher -> byte\n",
    "    cipher_bytes = bytes.fromhex(cipher[32:])\n",
    "    # Tạo 1 hàm aes với key byte\n",
    "    aes = pyaes.AES(key_byte)\n",
    "    # Chạy bòng for và giải mã từng khối\n",
    "    for i in range(int(len(cipher_bytes)/16)) :\n",
    "        # lấy khối đầu tiên ra\n",
    "        cipher_byte = cipher_bytes[:16]\n",
    "        # bỏ khối đầu khỏi khối byte cipher\n",
    "        cipher_bytes = cipher_bytes[16:]\n",
    "        # Giải mã\n",
    "        block = aes.decrypt(cipher_byte)\n",
    "        # Xor với iv rồi thêm vào chuỗi plaintext\n",
    "        plain_text += bytes([x ^ y for x, y in zip(block, iv)])\n",
    "        # Gán iv mới = khối byte cipher vừa xét\n",
    "        iv = cipher_byte\n",
    "        \n",
    "    # Xử lý padding\n",
    "    return plain_text[:-int(plain_text[-1])]"
   ]
  },
  {
   "attachments": {},
   "cell_type": "markdown",
   "metadata": {},
   "source": [
    "Trả lời câu hỏi 1 và câu hỏi 2"
   ]
  },
  {
   "cell_type": "code",
   "execution_count": 222,
   "metadata": {},
   "outputs": [
    {
     "name": "stdout",
     "output_type": "stream",
     "text": [
      "b'Basic CBC mode encryption needs padding.'\n",
      "b'Our implementation uses rand. IV'\n"
     ]
    }
   ],
   "source": [
    "cbc_key1    = \"140b41b22a29beb4061bda66b6747e14\"\n",
    "cbc_cipher1 = \"4ca00ff4c898d61e1edbf1800618fb2828a226d160dad07883d04e008a7897ee2e4b7465d5290d0c0e6c6822236e1daafb94ffe0c5da05d9476be028ad7c1d81\"\n",
    "cbc_key2    = \"140b41b22a29beb4061bda66b6747e14\"\n",
    "cbc_cipher2 = \"5b68629feb8606f9a6667670b75b38a5b4832d0f26e1ab7da33249de7d4afc48e713ac646ace36e872ad5fb8a512428a6e21364b0c374df45503473c5242a253\"\n",
    "print(Dec_CBC_Mode(cbc_key1, cbc_cipher1))\n",
    "print(Dec_CBC_Mode(cbc_key2, cbc_cipher2))"
   ]
  },
  {
   "attachments": {},
   "cell_type": "markdown",
   "metadata": {},
   "source": [
    "<h3>Hàm mã hóa với counter mode</h3>"
   ]
  },
  {
   "cell_type": "code",
   "execution_count": 225,
   "metadata": {},
   "outputs": [],
   "source": [
    "def Enc_CTR_Mode(key, plaintext, iv) : \n",
    "    #Chuyển bản rõ và iv -> string byte\n",
    "    plaintext_bytes = plaintext.encode()\n",
    "    iv = bytes.fromhex(iv)\n",
    "    #Khởi tạo hàm aes với key\n",
    "    aes = pyaes.AES(bytes.fromhex(key))\n",
    "    #Khởi tại cipher\n",
    "    ciphers = b''\n",
    "    # Chạy vòng lặp từng khối 16 byte của bản rõ để mã hóa\n",
    "    for i in range(int(len(plaintext_bytes)/16) if len(plaintext_bytes)%16 == 0 else int(len(plaintext_bytes)/16) + 1 ) :\n",
    "        block = aes.encrypt(iv)\n",
    "        plaintext_byte = plaintext_bytes[:16]\n",
    "        plaintext_bytes = plaintext_bytes[16:]\n",
    "        ciphers += bytes([x ^ y for x, y in zip(block, plaintext_byte)])\n",
    "        #Gán IV mới = iv + 1\n",
    "        iv = bytearray(iv)\n",
    "        for i in reversed(range(len(iv))):\n",
    "            if iv[i] == 255 :\n",
    "                iv[i] = 0\n",
    "            else : \n",
    "                iv[i] = iv[i] + 1\n",
    "                break\n",
    "        iv = bytes(iv)\n",
    "    return ciphers   "
   ]
  },
  {
   "cell_type": "code",
   "execution_count": 226,
   "metadata": {},
   "outputs": [
    {
     "name": "stdout",
     "output_type": "stream",
     "text": [
      "0ec7702330098ce7f7520d1cbbb20fc388d1b0adb5054dbd7370849dbf0b88d393f252e764f1f5f7ad97ef79d59ce29f5f51eeca32eabedd9afa9329\n"
     ]
    }
   ],
   "source": [
    "#Check lại hàm mã hóa sau khi đã tìm được bản rõ ở câu 3 và câu 4\n",
    "plaintext_test = \"CTR mode lets you build a stream cipher from a block cipher.\"\n",
    "iv_test = \"69dda8455c7dd4254bf353b773304eec\"\n",
    "key_test = \"36f18357be4dbd77f050515c73fcf9f2\"\n",
    "print(Enc_CTR_Mode(key_test, plaintext_test, iv_test).hex())"
   ]
  },
  {
   "attachments": {},
   "cell_type": "markdown",
   "metadata": {},
   "source": [
    "<h3>Hàm giải mã chế độ counter mode</h3>\n",
    "Giải thích : <br>\n",
    "- Ta chuyển key, cipher về dạng string byte sau đó tách 16 byte đầu của cipher làm iv <br>\n",
    "- Khởi tạo hàm aes với khóa, sau đó chạy vòng lặp chạy các khối với kích thước 16 byte, nếu khối cuối không đủ 16 byte thì có bao nhiêu giải bấy nhiêu, vì không padding mà ! <br>\n",
    "- Ta sẽ mã hóa từng IV với hàm aes đã tạo với key trước đó rồi tăng IV lên 1 cho khối kế tiếp. Lấy kết quả mã hóa xor với khối 16 byte của bản mã ta sẽ thu được bản rõ <br>"
   ]
  },
  {
   "cell_type": "code",
   "execution_count": 217,
   "metadata": {},
   "outputs": [
    {
     "name": "stdout",
     "output_type": "stream",
     "text": [
      "b'CTR mode lets you build a stream cipher from a block cipher.'\n"
     ]
    }
   ],
   "source": [
    "def Dec_CTR_Mode(key, cipher) : \n",
    "    # Khởi tạo plain text\n",
    "    plain_text = b\"\" \n",
    "    # Chuyển string hex IV -> byte . IV là 16 byte đầu của cipher tức 32 kí tự đầu của cipher dạng hex string\n",
    "    iv = bytes.fromhex(cipher[0:32])\n",
    "    # Chuyển key string hex -> byte\n",
    "    key_byte = bytes.fromhex(key)\n",
    "    # Chuyển string hex cipher -> byte\n",
    "    cipher_bytes = bytes.fromhex(cipher[32:])\n",
    "    # Tạo 1 hàm aes với key byte\n",
    "    aes = pyaes.AES(key_byte)\n",
    "    # Chạy bòng for và giải mã từng khối, số vòng lặp = số khối xác định được\n",
    "    for i in range(int(len(cipher_bytes)/16) if len(cipher_bytes)%16 == 0 else int(len(cipher_bytes)/16) + 1 ) :\n",
    "        # lấy khối đầu tiên ra\n",
    "        cipher_byte = cipher_bytes[:16]\n",
    "        # bỏ khối đầu khỏi khối byte cipher\n",
    "        cipher_bytes = cipher_bytes[16:]\n",
    "        # mã hóa iv\n",
    "        block = aes.encrypt(iv)\n",
    "        # Xor với iv rồi thêm vào chuỗi plaintext\n",
    "        plain_text += bytes([x ^ y for x, y in zip(block, cipher_byte)])\n",
    "        # Gán iv mới = iv + 1\n",
    "        iv = bytearray(iv)\n",
    "        for i in reversed(range(len(iv))):\n",
    "            if iv[i] == 255 :\n",
    "                iv[i] = 0\n",
    "            else : \n",
    "                iv[i] = iv[i] + 1\n",
    "                break\n",
    "        iv = bytes(iv)\n",
    "    return plain_text"
   ]
  },
  {
   "attachments": {},
   "cell_type": "markdown",
   "metadata": {},
   "source": [
    "Trả lời câu hỏi 3 và 4"
   ]
  },
  {
   "cell_type": "code",
   "execution_count": 219,
   "metadata": {},
   "outputs": [
    {
     "name": "stdout",
     "output_type": "stream",
     "text": [
      "b'CTR mode lets you build a stream cipher from a block cipher.'\n",
      "b'Always avoid the two time pad!'\n"
     ]
    }
   ],
   "source": [
    "ctr_key = \"36f18357be4dbd77f050515c73fcf9f2\"\n",
    "cipher_3 =\"69dda8455c7dd4254bf353b773304eec0ec7702330098ce7f7520d1cbbb20fc388d1b0adb5054dbd7370849dbf0b88d393f252e764f1f5f7ad97ef79d59ce29f5f51eeca32eabedd9afa9329\"\n",
    "cipher_4 =\"770b80259ec33beb2561358a9f2dc617e46218c0a53cbeca695ae45faa8952aa0e311bde9d4e01726d3184c34451\"\n",
    "print(Dec_CTR_Mode(ctr_key, cipher_3))\n",
    "print(Dec_CTR_Mode(ctr_key, cipher_4))"
   ]
  }
 ],
 "metadata": {
  "kernelspec": {
   "display_name": "Python 3",
   "language": "python",
   "name": "python3"
  },
  "language_info": {
   "codemirror_mode": {
    "name": "ipython",
    "version": 3
   },
   "file_extension": ".py",
   "mimetype": "text/x-python",
   "name": "python",
   "nbconvert_exporter": "python",
   "pygments_lexer": "ipython3",
   "version": "3.10.7"
  },
  "orig_nbformat": 4
 },
 "nbformat": 4,
 "nbformat_minor": 2
}
